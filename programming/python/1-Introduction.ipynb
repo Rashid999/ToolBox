{
 "cells": [
  {
   "cell_type": "markdown",
   "metadata": {},
   "source": [
    "## Introduction\n",
    "\n",
    ">A computer does two things, and two things only: it performs calculations and it remembers the results of those calculations. But it does those two things extremely well. \n",
    "\n",
    "There are two types of calculations: __built-in__ and the ones defined by a programmer.\n",
    "\n",
    "___Introduction to Python___\n",
    "\n",
    "_Types_\n",
    "\n",
    "Every object in Python has a __type__ that defines the kinds of things that programs can do with that object.\n",
    "\n",
    "- `int` represents integers. \n",
    "\n",
    "- `float` represents real numbers. \n",
    "\n",
    "- `bool` represents Boolean values: `True` and `False`.\n",
    "\n",
    "- `NoneType` represents a _special_ null value: `None`.\n",
    "\n",
    "- `str` represents strings.\n",
    "\n",
    "Use the `type()` function to figure out the type of an object.\n",
    "\n",
    "__Variables__\n",
    "\n",
    ">In Python, a variable is just a name, nothing more.\n",
    "\n",
    "_The assignment operator (`=`) binds a __name__ to a __value__, stored in memory._"
   ]
  },
  {
   "cell_type": "code",
   "execution_count": 27,
   "metadata": {},
   "outputs": [
    {
     "data": {
      "text/plain": [
       "3.14159"
      ]
     },
     "execution_count": 27,
     "metadata": {},
     "output_type": "execute_result"
    }
   ],
   "source": [
    "pi = 3.14159\n",
    "pi"
   ]
  },
  {
   "cell_type": "markdown",
   "metadata": {},
   "source": [
    "There are a small number of __reserved words__ in Python that have built-in meanings and cannot be used as variable names: \n",
    "\n",
    "- `and`, `as`, `assert`, `break`, `class`, `continue`, `def`, `del`, `elif`, `else`, `except`, `False`, `finally`, `for`, `from`, `global`, `if`, `import`, `in`, `is`, `lambda`, `nonlocal`, `None`, `not`, `or`, `pass`, `raise`, `return`, `True`, `try`, `while`, `with`, and `yield`.\n",
    "\n",
    "_Python allows multiple assignment._"
   ]
  },
  {
   "cell_type": "code",
   "execution_count": 50,
   "metadata": {},
   "outputs": [
    {
     "name": "stdout",
     "output_type": "stream",
     "text": [
      "before: 2 3\n",
      "after: 3 2\n"
     ]
    }
   ],
   "source": [
    "x, y = 2, 3\n",
    "print(\"before:\", x, y)\n",
    "y, x = x, y ## swap the bindings easily\n",
    "print(\"after:\", x, y)"
   ]
  },
  {
   "cell_type": "markdown",
   "metadata": {},
   "source": [
    "__Indentation__ is semantically meaningful in Python. \n",
    "\n",
    "_Branching programs_ use indentation instead of curly brackets to separate conditional statements. The same goes for programs that use `while` and `for` loops.\n",
    "\n",
    ">Find a positive integer that is divisible by both 11 and 12"
   ]
  },
  {
   "cell_type": "code",
   "execution_count": 75,
   "metadata": {},
   "outputs": [
    {
     "name": "stdout",
     "output_type": "stream",
     "text": [
      "132 is divisible by 11 and 12\n"
     ]
    }
   ],
   "source": [
    "x = 1\n",
    "while True:\n",
    "    if x % 11 == 0 and x % 12 == 0:\n",
    "        break\n",
    "    x += 1\n",
    "print(x, \"is divisible by 11 and 12\")"
   ]
  },
  {
   "cell_type": "markdown",
   "metadata": {},
   "source": [
    "___Strings___\n",
    "\n",
    "Literals of type `str` can be written using either single `'` or double `\"` quotes.\n",
    "\n",
    "Some operators in Python are __overloaded__: they have different meanings depending on the _type_ of object to which they are applied. For example, `+` means concatenation when applied to strings; `*` means repetition.\n"
   ]
  },
  {
   "cell_type": "code",
   "execution_count": 103,
   "metadata": {},
   "outputs": [
    {
     "data": {
      "text/plain": [
       "'ab'"
      ]
     },
     "execution_count": 103,
     "metadata": {},
     "output_type": "execute_result"
    }
   ],
   "source": [
    "\"a\" + \"b\""
   ]
  },
  {
   "cell_type": "code",
   "execution_count": 106,
   "metadata": {},
   "outputs": [
    {
     "data": {
      "text/plain": [
       "'nanananana'"
      ]
     },
     "execution_count": 106,
     "metadata": {},
     "output_type": "execute_result"
    }
   ],
   "source": [
    "\"na\" * 5"
   ]
  },
  {
   "cell_type": "markdown",
   "metadata": {},
   "source": [
    "Strings can be said to have a _non-scalar_ type because they have \"internal structure\". They're a made out of pieces. They have length, can be indexed, and also sliced."
   ]
  },
  {
   "cell_type": "code",
   "execution_count": 117,
   "metadata": {},
   "outputs": [
    {
     "data": {
      "text/plain": [
       "6"
      ]
     },
     "execution_count": 117,
     "metadata": {},
     "output_type": "execute_result"
    }
   ],
   "source": [
    "len(\"andrés\")"
   ]
  },
  {
   "cell_type": "code",
   "execution_count": 113,
   "metadata": {},
   "outputs": [
    {
     "data": {
      "text/plain": [
       "'a'"
      ]
     },
     "execution_count": 113,
     "metadata": {},
     "output_type": "execute_result"
    }
   ],
   "source": [
    "\"andrés\"[0] ## zero indexing"
   ]
  },
  {
   "cell_type": "code",
   "execution_count": 118,
   "metadata": {},
   "outputs": [
    {
     "data": {
      "text/plain": [
       "'ndr'"
      ]
     },
     "execution_count": 118,
     "metadata": {},
     "output_type": "execute_result"
    }
   ],
   "source": [
    "\"andrés\"[1:4] ## slicing"
   ]
  },
  {
   "cell_type": "code",
   "execution_count": 11,
   "metadata": {},
   "outputs": [
    {
     "data": {
      "text/plain": [
       "'adé'"
      ]
     },
     "execution_count": 11,
     "metadata": {},
     "output_type": "execute_result"
    }
   ],
   "source": [
    "\"andrés\"[0:6:2] ## slicing"
   ]
  },
  {
   "cell_type": "markdown",
   "metadata": {},
   "source": [
    "__A Digression About Character Encoding__\n",
    "\n",
    "Most programming languages have used a character encoding standard called ASCII, a standard set of 128 characets that appear on English keyboards.\n",
    "\n",
    "Python 3 has adopted the __Unicode__ standard, which has been design to support the processing of written text in _all_ languages. It contains more than 120,000 different characters."
   ]
  }
 ],
 "metadata": {
  "kernelspec": {
   "display_name": "Python 3",
   "language": "python",
   "name": "python3"
  },
  "language_info": {
   "codemirror_mode": {
    "name": "ipython",
    "version": 3
   },
   "file_extension": ".py",
   "mimetype": "text/x-python",
   "name": "python",
   "nbconvert_exporter": "python",
   "pygments_lexer": "ipython3",
   "version": "3.7.6"
  }
 },
 "nbformat": 4,
 "nbformat_minor": 4
}
