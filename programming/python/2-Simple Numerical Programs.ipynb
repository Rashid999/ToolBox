{
 "cells": [
  {
   "cell_type": "markdown",
   "metadata": {},
   "source": [
    "# Simple numerical programs\n",
    "\n",
    "## Exhaustive Enumeration\n",
    "\n",
    "The following `while` loop will generate candidate solutions to a particular problem —*find the cube root of a perfect cube*— until it reaches an answer. This is an example of __exhaustive ennumeration__ (or brute-force approach)."
   ]
  },
  {
   "cell_type": "code",
   "execution_count": 48,
   "metadata": {},
   "outputs": [
    {
     "name": "stdin",
     "output_type": "stream",
     "text": [
      "Enter an integer:  8\n"
     ]
    },
    {
     "name": "stdout",
     "output_type": "stream",
     "text": [
      "Cube root of 8 is 2\n"
     ]
    }
   ],
   "source": [
    "#Find the cube root of a perfect cube\n",
    "x = int(input('Enter an integer: '))\n",
    "ans = 0\n",
    "while ans**3 < abs(x):\n",
    "    ans = ans + 1\n",
    "if ans**3 != abs(x):\n",
    "    print(x, 'is not a perfect cube')\n",
    "else:\n",
    "    if x < 0:\n",
    "        ans = -ans\n",
    "    print('Cube root of', x,'is', ans)\n"
   ]
  },
  {
   "cell_type": "markdown",
   "metadata": {},
   "source": [
    "Loops like this one require a __decrementing function__ with the following properties:\n",
    "\n",
    "- It maps a set of program variables into an integer.\n",
    "\n",
    "- When the loop starts, its value is nonnegative.\n",
    "\n",
    "- When its value becomes $\\leq$ 0, the loop terminates.\n",
    "\n",
    "- Its value is decreased every time through the loop.\n",
    "\n",
    "Here, the decrementing function is `abs(x) - ans**3`. If you input $x$ = 8, the loop runs three times (for which the decrementing function will be 8, 7, and 0)."
   ]
  },
  {
   "cell_type": "markdown",
   "metadata": {},
   "source": [
    "## Approximate Solutions and Bisection Search"
   ]
  },
  {
   "cell_type": "markdown",
   "metadata": {},
   "source": [
    "We require __approximations__ when, for whatever reason, some questions can't be entirely answered using a finite set of digits. \n",
    "\n",
    "For example, the square root of 2 is not a rational number. But a useful representation of $\\sqrt{2}$ will be \"close enough\".\n",
    "\n",
    "The following chunk code implements an algorithm that does this, where \"close enough\" is represented by `epsilon`."
   ]
  },
  {
   "cell_type": "code",
   "execution_count": 47,
   "metadata": {},
   "outputs": [
    {
     "name": "stdin",
     "output_type": "stream",
     "text": [
      "Enter number:  25\n"
     ]
    },
    {
     "name": "stdout",
     "output_type": "stream",
     "text": [
      "Number of guesses:  49990\n",
      "4.999000000001688 is close to square root of 25.0\n"
     ]
    }
   ],
   "source": [
    "x = float(input(\"Enter number: \"))\n",
    "epsilon = 0.01\n",
    "step = epsilon **2\n",
    "numGuesses = 0\n",
    "ans = 0.0\n",
    "while abs(ans**2 - x) >= epsilon and ans <= x:\n",
    "    ans += step\n",
    "    numGuesses += 1\n",
    "print(\"Number of guesses: \", numGuesses)\n",
    "if abs(ans**2 - x) >= epsilon:\n",
    "    print(\"Failed on square root of \", x)\n",
    "else: \n",
    "    print(ans, \"is close to square root of\", x)"
   ]
  },
  {
   "cell_type": "markdown",
   "metadata": {},
   "source": [
    "This approach is highly inefficient because it takes 0 to be the starting point and then starts increasing the guess by a step size of $0.01^2$ in every loop. That means that it will be somewhat slow for large values of $x$. On the other hand, the step size might be too small for some problems (e.g. finding the square root of 0.25).\n",
    "\n",
    "Thus, we need a better algorithm for this task: __bisection search__.\n",
    "\n",
    "Bisection search takes advantage of the fact that all numbers are _ordered_. This means we can start looking for the candidate solution to our problem between the minimum and maximum of our interval.\n",
    "\n",
    "$$\n",
    "0 --------\\longrightarrow \\text{guess} \\longleftarrow --------\\text{max}\n",
    "$$\n",
    "\n",
    ">If that is not the right answer (and it won’t be most of the time), ask whether it is too big or too small. If it is too big, we know that the  answer must lie to the left. If it is too small, we know that the answer must lie to the right. We then repeat the process on the smaller interval.\n",
    "\n",
    "This is how we implement a bisection search algorithm to find the square root of any number:"
   ]
  },
  {
   "cell_type": "code",
   "execution_count": 52,
   "metadata": {},
   "outputs": [
    {
     "name": "stdin",
     "output_type": "stream",
     "text": [
      "Enter number:  25\n"
     ]
    },
    {
     "name": "stdout",
     "output_type": "stream",
     "text": [
      "interval: ( 0.0 , 25.0 )\n",
      "interval: ( 0.0 , 12.5 )\n",
      "interval: ( 0.0 , 6.25 )\n",
      "interval: ( 3.125 , 6.25 )\n",
      "interval: ( 4.6875 , 6.25 )\n",
      "interval: ( 4.6875 , 5.46875 )\n",
      "interval: ( 4.6875 , 5.078125 )\n",
      "interval: ( 4.8828125 , 5.078125 )\n",
      "interval: ( 4.98046875 , 5.078125 )\n",
      "interval: ( 4.98046875 , 5.029296875 )\n",
      "interval: ( 4.98046875 , 5.0048828125 )\n",
      "interval: ( 4.99267578125 , 5.0048828125 )\n",
      "interval: ( 4.998779296875 , 5.0048828125 )\n",
      "Number of guesses: 13\n",
      "5.00030517578125 is close enough to the square root of 25.0\n"
     ]
    }
   ],
   "source": [
    "x = float(input(\"Enter number: \"))\n",
    "epsilon = 0.01\n",
    "numGuesses = 0\n",
    "low = 0.0\n",
    "high = max(1.0, x)  ## ???\n",
    "ans = (high + low) / 2.0\n",
    "while abs(ans**2 - x) >= epsilon:\n",
    "    print(\"interval: (\", low, \",\", high, \")\")\n",
    "    numGuesses += 1\n",
    "    if ans**2 < x:\n",
    "        low = ans\n",
    "    else:\n",
    "        high = ans\n",
    "    ans = (high + low) / 2.0\n",
    "print(\"Number of guesses:\", numGuesses)\n",
    "print(ans, \"is close enough to the square root of\", x)"
   ]
  },
  {
   "cell_type": "markdown",
   "metadata": {},
   "source": [
    "## Newton-Raphson\n",
    "\n",
    "Newton's method can be used to find the real roots of many\n",
    "functions, but we shall look at it only in the context of finding the real roots of a polynomial with one variable. \n",
    "\n",
    "$$\n",
    "f(x) = a_n x^n + a_{n-1} x^{n-1} + \\dots + a_1 x + a_0\n",
    "$$\n",
    "\n",
    "The root $r$ of $f(x)$ is simply the value of $x$ such that $f(x) = 0$\n",
    "\n",
    "Newton showed that if $g$ is an approximation to the root, then a _better_ approximation is given by:\n",
    "\n",
    "$$\n",
    "g - \\frac{f(g)}{f^\\prime(g)}\n",
    "$$\n",
    "\n",
    "Here, $f^\\prime$ is the derivative of $f$.\n",
    "\n",
    "So, let's say $x$ the square root of $k$, such that $x^2 = k$. We can use Newton's method to find the value of $x$ such that $x^2 - k = 0$. The derivative of this function is simply $2x$.\n"
   ]
  },
  {
   "cell_type": "code",
   "execution_count": 66,
   "metadata": {},
   "outputs": [
    {
     "name": "stdin",
     "output_type": "stream",
     "text": [
      "Enter number: 25\n"
     ]
    },
    {
     "name": "stdout",
     "output_type": "stream",
     "text": [
      "Number of guesses: 4\n",
      "Square root of 25.0 is about 5.000012953048684\n"
     ]
    }
   ],
   "source": [
    "#Newton-Raphson for square root\n",
    "#Find x such that x**2 - k is within epsilon of 0\n",
    "k = float(input(\"Enter number:\"))\n",
    "epsilon = 0.01\n",
    "guess = k/2.0\n",
    "numGuesses = 0\n",
    "while abs(guess*guess - k) >= epsilon:\n",
    "    guess = guess - ((guess**2 - k)/(2*guess))\n",
    "    numGuesses += 1\n",
    "print(\"Number of guesses:\", numGuesses)\n",
    "print('Square root of', k, 'is about', guess)"
   ]
  },
  {
   "cell_type": "markdown",
   "metadata": {},
   "source": [
    "Note. Generalizing this method to polynomials with multiple variables is allegedly very straightforward."
   ]
  },
  {
   "cell_type": "code",
   "execution_count": null,
   "metadata": {},
   "outputs": [],
   "source": []
  }
 ],
 "metadata": {
  "kernelspec": {
   "display_name": "Python 3",
   "language": "python",
   "name": "python3"
  },
  "language_info": {
   "codemirror_mode": {
    "name": "ipython",
    "version": 3
   },
   "file_extension": ".py",
   "mimetype": "text/x-python",
   "name": "python",
   "nbconvert_exporter": "python",
   "pygments_lexer": "ipython3",
   "version": "3.7.6"
  }
 },
 "nbformat": 4,
 "nbformat_minor": 4
}
